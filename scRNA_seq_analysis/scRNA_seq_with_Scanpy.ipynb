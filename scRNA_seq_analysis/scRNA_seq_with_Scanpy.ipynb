{
 "cells": [
  {
   "cell_type": "code",
   "execution_count": null,
   "id": "c3c844a1",
   "metadata": {},
   "outputs": [],
   "source": [
    "from __future__ import annotations\n",
    "\n",
    "import matplotlib.pyplot as plt\n",
    "import pandas as pd\n",
    "import scanpy as sc"
   ]
  },
  {
   "cell_type": "code",
   "execution_count": null,
   "id": "cd90635b",
   "metadata": {},
   "outputs": [],
   "source": [
    "%%bash\n",
    "mkdir -p data write\n",
    "cd data\n",
    "test -f pbmc3k_filtered_gene_bc_matrices.tar.gz || curl https://cf.10xgenomics.com/samples/cell/pbmc3k/pbmc3k_filtered_gene_bc_matrices.tar.gz -o pbmc3k_filtered_gene_bc_matrices.tar.gz\n",
    "tar -xzf pbmc3k_filtered_gene_bc_matrices.tar.gz"
   ]
  },
  {
   "cell_type": "code",
   "execution_count": null,
   "id": "565554ca",
   "metadata": {},
   "outputs": [],
   "source": [
    "sc.settings.verbosity = 3\n",
    "sc.set_figure_params(dpi=80, facecolor=\"white\")\n",
    "sc.logging.print_header()"
   ]
  },
  {
   "cell_type": "code",
   "execution_count": null,
   "id": "251cfe33",
   "metadata": {},
   "outputs": [],
   "source": [
    "results_file = \"write/pbmc3k.h5ad\""
   ]
  },
  {
   "cell_type": "code",
   "execution_count": null,
   "id": "b8a6f83c",
   "metadata": {},
   "outputs": [],
   "source": [
    "adata = sc.read_10x_mtx(\n",
    "    \"data/filtered_gene_bc_matrices/hg19/\", \n",
    "    var_names=\"gene_symbols\", \n",
    "    cache=True, \n",
    ")"
   ]
  },
  {
   "cell_type": "code",
   "execution_count": null,
   "id": "78577b5f",
   "metadata": {},
   "outputs": [],
   "source": [
    "adata"
   ]
  },
  {
   "cell_type": "code",
   "execution_count": null,
   "id": "879425be",
   "metadata": {},
   "outputs": [],
   "source": [
    "adata.var_names_make_unique()"
   ]
  },
  {
   "cell_type": "code",
   "execution_count": null,
   "id": "415a83b6",
   "metadata": {},
   "outputs": [],
   "source": [
    "adata"
   ]
  },
  {
   "cell_type": "markdown",
   "id": "83429ab9",
   "metadata": {},
   "source": [
    "## Data Preprocessing"
   ]
  },
  {
   "cell_type": "code",
   "execution_count": null,
   "id": "1819a403",
   "metadata": {},
   "outputs": [],
   "source": [
    "sc.pl.highest_expr_genes(adata, n_top=20)"
   ]
  },
  {
   "cell_type": "code",
   "execution_count": null,
   "id": "9af58034",
   "metadata": {},
   "outputs": [],
   "source": [
    "sc.pp.filter_cells(adata, min_genes=200)\n",
    "sc.pp.filter_genes(adata, min_cells=3)\n",
    "adata"
   ]
  },
  {
   "cell_type": "code",
   "execution_count": null,
   "id": "76b0d786",
   "metadata": {},
   "outputs": [],
   "source": [
    "adata.var[\"mt\"] = adata.var_names.str.startswith(\"MT-\")\n",
    "sc.pp.calculate_qc_metrics(adata, qc_vars=[\"mt\"], percent_top=None, log1p=False, inplace=True)"
   ]
  },
  {
   "cell_type": "code",
   "execution_count": null,
   "id": "36249287",
   "metadata": {},
   "outputs": [],
   "source": [
    "sc.pl.violin(\n",
    "    adata,\n",
    "    [\"n_genes_by_counts\", \"total_counts\", \"pct_counts_mt\"],\n",
    "    jitter=0.4,\n",
    "    multi_panel=True,\n",
    ")"
   ]
  },
  {
   "cell_type": "code",
   "execution_count": null,
   "id": "df180226",
   "metadata": {},
   "outputs": [],
   "source": [
    "adata = adata[\n",
    "    (adata.obs.n_genes_by_counts < 2500) & (adata.obs.n_genes_by_counts > 200) & (adata.obs.pct_counts_mt < 5),\n",
    "    :,\n",
    "].copy()\n",
    "adata.layers[\"counts\"] = adata.X.copy()"
   ]
  },
  {
   "cell_type": "code",
   "execution_count": null,
   "id": "aa93e6f2",
   "metadata": {},
   "outputs": [],
   "source": [
    "adata"
   ]
  },
  {
   "cell_type": "code",
   "execution_count": null,
   "id": "4f40ef8b",
   "metadata": {},
   "outputs": [],
   "source": [
    "sc.pp.normalize_total(adata, target_sum=1e4)"
   ]
  },
  {
   "cell_type": "code",
   "execution_count": null,
   "id": "efd0aa7b",
   "metadata": {},
   "outputs": [],
   "source": [
    "sc.pp.log1p(adata)"
   ]
  },
  {
   "cell_type": "code",
   "execution_count": null,
   "id": "e23df23c",
   "metadata": {},
   "outputs": [],
   "source": [
    "sc.pp.highly_variable_genes(\n",
    "    adata,\n",
    "    layer=\"counts\",\n",
    "    n_top_genes=2000,\n",
    "    min_mean=0.0125,\n",
    "    max_mean=3,\n",
    "    min_disp=0.5,\n",
    "    flavor=\"seurat_v3\",\n",
    ")"
   ]
  },
  {
   "cell_type": "code",
   "execution_count": null,
   "id": "532dd3da",
   "metadata": {},
   "outputs": [],
   "source": [
    "adata.layers[\"scaled\"] = adata.X.toarray()\n",
    "sc.pp.regress_out(adata, [\"total_counts\", \"pct_counts_mt\"], layer=\"scaled\")\n",
    "sc.pp.scale(adata, max_value=10, layer=\"scaled\")"
   ]
  },
  {
   "cell_type": "markdown",
   "id": "7c4230cd",
   "metadata": {},
   "source": [
    "## Principal Component Analysis (PCA)"
   ]
  },
  {
   "cell_type": "code",
   "execution_count": null,
   "id": "9e80f1bd",
   "metadata": {},
   "outputs": [],
   "source": [
    "sc.pp.pca(adata, layer=\"scaled\", svd_solver=\"arpack\")"
   ]
  },
  {
   "cell_type": "code",
   "execution_count": null,
   "id": "cf21c60f",
   "metadata": {},
   "outputs": [],
   "source": [
    "sc.pl.pca_variance_ratio(adata, n_pcs=20)"
   ]
  },
  {
   "cell_type": "markdown",
   "id": "4bed8c65",
   "metadata": {},
   "source": [
    "## Computing the neighborhood graph"
   ]
  },
  {
   "cell_type": "code",
   "execution_count": null,
   "id": "0a5add86",
   "metadata": {},
   "outputs": [],
   "source": [
    "sc.pp.neighbors(adata, n_neighbors=10, n_pcs=40)"
   ]
  },
  {
   "cell_type": "markdown",
   "id": "0148929c",
   "metadata": {},
   "source": [
    "## UMAP"
   ]
  },
  {
   "cell_type": "code",
   "execution_count": null,
   "id": "dbdb7fa3",
   "metadata": {},
   "outputs": [],
   "source": [
    "sc.tl.umap(adata)"
   ]
  },
  {
   "cell_type": "code",
   "execution_count": null,
   "id": "abed4fe5",
   "metadata": {},
   "outputs": [],
   "source": [
    "# Using normalized gene expression, \n",
    "sc.pl.umap(adata, color=[\"CST3\", \"NKG7\", \"PPBP\"])"
   ]
  },
  {
   "cell_type": "code",
   "execution_count": null,
   "id": "56ee8646",
   "metadata": {},
   "outputs": [],
   "source": [
    "# Using raw gene expression, \n",
    "sc.pl.umap(adata, color=[\"CST3\", \"NKG7\", \"PPBP\"], layer=\"counts\")"
   ]
  },
  {
   "cell_type": "code",
   "execution_count": null,
   "id": "b1ef9de0",
   "metadata": {},
   "outputs": [],
   "source": [
    "# Using scaled gene expression, \n",
    "sc.pl.umap(adata, color=[\"CST3\", \"NKG7\", \"PPBP\"], layer=\"scaled\")"
   ]
  },
  {
   "cell_type": "markdown",
   "id": "42df8247",
   "metadata": {},
   "source": [
    "## Graph-based Clustering"
   ]
  },
  {
   "cell_type": "code",
   "execution_count": null,
   "id": "c49eb9d5",
   "metadata": {},
   "outputs": [],
   "source": [
    "sc.tl.leiden(\n",
    "    adata,\n",
    "    resolution=0.7,\n",
    "    random_state=0,\n",
    "    flavor=\"igraph\",\n",
    "    n_iterations=2,\n",
    "    directed=False,\n",
    ")\n",
    "adata.obs[\"leiden\"] = adata.obs[\"leiden\"].copy()\n",
    "adata.uns[\"leiden\"] = adata.uns[\"leiden\"].copy()\n",
    "adata.obsm[\"X_umap\"] = adata.obsm[\"X_umap\"].copy()"
   ]
  },
  {
   "cell_type": "code",
   "execution_count": null,
   "id": "53790c78",
   "metadata": {},
   "outputs": [],
   "source": [
    "sc.pl.umap(adata, color=[\"leiden\", \"CD14\", \"NKG7\"])"
   ]
  },
  {
   "cell_type": "markdown",
   "id": "561beb18",
   "metadata": {},
   "source": [
    "## Finding marker genes"
   ]
  },
  {
   "cell_type": "code",
   "execution_count": null,
   "id": "6999b689",
   "metadata": {},
   "outputs": [],
   "source": [
    "sc.tl.rank_genes_groups(adata, \"leiden\", mask_var=\"highly_variable\", method=\"t-test\")\n",
    "sc.pl.rank_genes_groups(adata, n_genes=25, sharey=False)"
   ]
  },
  {
   "cell_type": "code",
   "execution_count": null,
   "id": "1417f828",
   "metadata": {},
   "outputs": [],
   "source": [
    "# Savepoint\n",
    "adata.write(results_file)"
   ]
  },
  {
   "cell_type": "code",
   "execution_count": null,
   "id": "e90037ff",
   "metadata": {},
   "outputs": [],
   "source": [
    "marker_genes = [\n",
    "    *[\"IL7R\", \"CD79A\", \"MS4A1\", \"CD8A\", \"CD8B\", \"LYZ\", \"CD14\"],\n",
    "    *[\"LGALS3\", \"S100A8\", \"GNLY\", \"NKG7\", \"KLRB1\"],\n",
    "    *[\"FCGR3A\", \"MS4A7\", \"FCER1A\", \"CST3\", \"PPBP\"],\n",
    "]"
   ]
  },
  {
   "cell_type": "code",
   "execution_count": null,
   "id": "08366a53",
   "metadata": {},
   "outputs": [],
   "source": [
    "pd.DataFrame(adata.uns[\"rank_genes_groups\"][\"names\"]).head(5)"
   ]
  },
  {
   "cell_type": "code",
   "execution_count": null,
   "id": "2c80314d",
   "metadata": {},
   "outputs": [],
   "source": [
    "result = adata.uns[\"rank_genes_groups\"]\n",
    "groups = result[\"names\"].dtype.names\n",
    "pd.DataFrame({f\"{group}_{key[:1]}\": result[key][group] for group in groups for key in [\"names\", \"pvals\"]}).head(5)"
   ]
  },
  {
   "cell_type": "code",
   "execution_count": null,
   "id": "f49ac3b2",
   "metadata": {},
   "outputs": [],
   "source": [
    "sc.pl.violin(adata, [\"CST3\", \"NKG7\", \"PPBP\"], groupby=\"leiden\")"
   ]
  },
  {
   "cell_type": "markdown",
   "id": "53c5d328",
   "metadata": {},
   "source": [
    "## Cell type annotation"
   ]
  },
  {
   "cell_type": "code",
   "execution_count": null,
   "id": "b823cd93",
   "metadata": {},
   "outputs": [],
   "source": [
    "new_cluster_names = [\n",
    "    \"CD4 T\",\n",
    "    \"B\",\n",
    "    \"CD14+ Monocytes\",\n",
    "    \"NK\",\n",
    "    \"CD8 T\",\n",
    "    \"FCGR3A+ Monocytes\",\n",
    "    \"Dendritic\",\n",
    "    \"Megakaryocytes\",\n",
    "]\n",
    "adata.rename_categories(\"leiden\", new_cluster_names)"
   ]
  },
  {
   "cell_type": "code",
   "execution_count": null,
   "id": "98b0dd94",
   "metadata": {},
   "outputs": [],
   "source": [
    "sc.pl.umap(adata, color=\"leiden\", legend_loc=\"on data\", title=\"\", frameon=False, save=\".pdf\")"
   ]
  },
  {
   "cell_type": "code",
   "execution_count": null,
   "id": "3595e0db",
   "metadata": {},
   "outputs": [],
   "source": [
    "sc.pl.dotplot(adata, marker_genes, groupby=\"leiden\")"
   ]
  },
  {
   "cell_type": "code",
   "execution_count": null,
   "id": "c0088845",
   "metadata": {},
   "outputs": [],
   "source": [
    "adata"
   ]
  },
  {
   "cell_type": "markdown",
   "id": "18e869c1",
   "metadata": {},
   "source": [
    "## Differentially expressed genes"
   ]
  },
  {
   "cell_type": "code",
   "execution_count": null,
   "id": "ebd886d6",
   "metadata": {},
   "outputs": [],
   "source": [
    "sc.tl.rank_genes_groups(\n",
    "    adata,\n",
    "    \"leiden\",\n",
    "    mask_var=\"highly_variable\",\n",
    "    groups=[\"CD4 T\"],\n",
    "    reference=\"CD8 T\",\n",
    "    method=\"wilcoxon\",\n",
    ")\n",
    "sc.pl.rank_genes_groups(adata, groups=[\"CD4 T\"], n_genes=20)"
   ]
  },
  {
   "cell_type": "code",
   "execution_count": null,
   "id": "351c38fc",
   "metadata": {},
   "outputs": [],
   "source": [
    "result = adata.uns[\"rank_genes_groups\"]\n",
    "groups = result[\"names\"].dtype.names\n",
    "pd.DataFrame({f\"{group}_{key[:1]}\": result[key][group] for group in groups for key in [\"names\", \"pvals\"]}).head(5)"
   ]
  },
  {
   "cell_type": "code",
   "execution_count": null,
   "id": "34d27e93",
   "metadata": {},
   "outputs": [],
   "source": []
  },
  {
   "cell_type": "code",
   "execution_count": null,
   "id": "d856837c",
   "metadata": {},
   "outputs": [],
   "source": []
  },
  {
   "cell_type": "code",
   "execution_count": null,
   "id": "299514ae",
   "metadata": {},
   "outputs": [],
   "source": []
  }
 ],
 "metadata": {
  "kernelspec": {
   "display_name": "Python 3 (ipykernel)",
   "language": "python",
   "name": "python3"
  },
  "language_info": {
   "codemirror_mode": {
    "name": "ipython",
    "version": 3
   },
   "file_extension": ".py",
   "mimetype": "text/x-python",
   "name": "python",
   "nbconvert_exporter": "python",
   "pygments_lexer": "ipython3",
   "version": "3.9.18"
  }
 },
 "nbformat": 4,
 "nbformat_minor": 5
}
